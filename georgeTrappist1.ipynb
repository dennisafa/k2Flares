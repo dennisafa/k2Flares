{
 "cells": [
  {
   "cell_type": "code",
   "execution_count": 2,
   "metadata": {},
   "outputs": [
    {
     "name": "stdout",
     "output_type": "stream",
     "text": [
      "Found 1 File(s)\n",
      "INFO: Found cached file ./mastDownload/K2/ktwo200164267-c12_lc/ktwo200164267-c12_llc.fits with expected size 417600. [astroquery.query]\n"
     ]
    },
    {
     "data": {
      "text/plain": [
       "array([2905.376917  , 2905.39734917, 2905.41778134, ..., 2984.22281516,\n",
       "       2984.243247  , 2984.26367895])"
      ]
     },
     "execution_count": 2,
     "metadata": {},
     "output_type": "execute_result"
    },
    {
     "data": {
      "image/png": "[encoded data removed]",
      "text/plain": [
       "<Figure size 432x288 with 1 Axes>"
      ]
     },
     "metadata": {},
     "output_type": "display_data"
    }
   ],
   "source": [
    "from george import kernels\n",
    "from george.metrics import Metric\n",
    "import matplotlib.pyplot as pl\n",
    "import numpy as np\n",
    "import george\n",
    "from lightkurve import KeplerLightCurveFile\n",
    "\n",
    "trp1 = KeplerLightCurveFile.from_archive(200164267) # trappist 1 light curve file\n",
    "trp1.plot()\n",
    "trp1.time"
   ]
  },
  {
   "cell_type": "code",
   "execution_count": 7,
   "metadata": {},
   "outputs": [
    {
     "ename": "NameError",
     "evalue": "name 'trpl' is not defined",
     "output_type": "error",
     "traceback": [
      "\u001b[0;31m---------------------------------------------------------------------------\u001b[0m",
      "\u001b[0;31mNameError\u001b[0m                                 Traceback (most recent call last)",
      "\u001b[0;32m<ipython-input-7-49d9f79349d0>\u001b[0m in \u001b[0;36m<module>\u001b[0;34m()\u001b[0m\n\u001b[0;32m----> 1\u001b[0;31m \u001b[0mtrp1PDC\u001b[0m \u001b[0;34m=\u001b[0m \u001b[0mtrpl\u001b[0m\u001b[0;34m.\u001b[0m\u001b[0mPDCSAP_FLUX\u001b[0m \u001b[0;31m# set an object to the PDCSAP flux of the light curve file\u001b[0m\u001b[0;34m\u001b[0m\u001b[0m\n\u001b[0m",
      "\u001b[0;31mNameError\u001b[0m: name 'trpl' is not defined"
     ]
    }
   ],
   "source": [
    "trp1PDC = trpl.PDCSAP_FLUX # set an object to the PDCSAP flux of the light curve file"
   ]
  },
  {
   "cell_type": "code",
   "execution_count": 8,
   "metadata": {},
   "outputs": [
    {
     "ename": "NameError",
     "evalue": "name 'trp1PDC' is not defined",
     "output_type": "error",
     "traceback": [
      "\u001b[0;31m---------------------------------------------------------------------------\u001b[0m",
      "\u001b[0;31mNameError\u001b[0m                                 Traceback (most recent call last)",
      "\u001b[0;32m<ipython-input-8-822421c0f427>\u001b[0m in \u001b[0;36m<module>\u001b[0;34m()\u001b[0m\n\u001b[0;32m----> 1\u001b[0;31m \u001b[0mtrp1PDC\u001b[0m \u001b[0;34m=\u001b[0m \u001b[0mtrp1PDC\u001b[0m\u001b[0;34m.\u001b[0m\u001b[0mremove_outliers\u001b[0m\u001b[0;34m(\u001b[0m\u001b[0;34m)\u001b[0m\u001b[0;34m.\u001b[0m\u001b[0mremove_nans\u001b[0m\u001b[0;34m(\u001b[0m\u001b[0;34m)\u001b[0m\u001b[0;34m\u001b[0m\u001b[0m\n\u001b[0m\u001b[1;32m      2\u001b[0m \u001b[0my\u001b[0m \u001b[0;34m=\u001b[0m \u001b[0mtrp1PDC\u001b[0m\u001b[0;34m.\u001b[0m\u001b[0mflux\u001b[0m\u001b[0;34m\u001b[0m\u001b[0m\n\u001b[1;32m      3\u001b[0m \u001b[0mx\u001b[0m \u001b[0;34m=\u001b[0m \u001b[0mtrp1PDC\u001b[0m\u001b[0;34m.\u001b[0m\u001b[0mtime\u001b[0m\u001b[0;34m\u001b[0m\u001b[0m\n\u001b[1;32m      4\u001b[0m \u001b[0mpl\u001b[0m\u001b[0;34m.\u001b[0m\u001b[0mplot\u001b[0m\u001b[0;34m(\u001b[0m\u001b[0mx\u001b[0m\u001b[0;34m[\u001b[0m\u001b[0;34m:\u001b[0m\u001b[0;34m]\u001b[0m\u001b[0;34m,\u001b[0m\u001b[0my\u001b[0m\u001b[0;34m[\u001b[0m\u001b[0;34m:\u001b[0m\u001b[0;34m]\u001b[0m\u001b[0;34m,\u001b[0m \u001b[0mlabel\u001b[0m \u001b[0;34m=\u001b[0m \u001b[0;34m'TRAPPIST 1'\u001b[0m\u001b[0;34m)\u001b[0m \u001b[0;31m# vary 100\u001b[0m\u001b[0;34m\u001b[0m\u001b[0m\n\u001b[1;32m      5\u001b[0m \u001b[0mpl\u001b[0m\u001b[0;34m.\u001b[0m\u001b[0mylabel\u001b[0m\u001b[0;34m(\u001b[0m\u001b[0;34m'Flux'\u001b[0m\u001b[0;34m)\u001b[0m\u001b[0;34m\u001b[0m\u001b[0m\n",
      "\u001b[0;31mNameError\u001b[0m: name 'trp1PDC' is not defined"
     ]
    }
   ],
   "source": [
    "trp1PDC = trp1PDC.remove_outliers().remove_nans()\n",
    "y = trp1PDC.flux\n",
    "x = trp1PDC.time\n",
    "pl.plot(x[:],y[:], label = 'TRAPPIST 1') # vary 100\n",
    "pl.ylabel('Flux')\n",
    "pl.xlabel('Time')"
   ]
  },
  {
   "cell_type": "code",
   "execution_count": null,
   "metadata": {},
   "outputs": [],
   "source": [
    "y = y[np.isfinite(clnY)] # make sure the array doesn't have any\n",
    "\n",
    "kernel = np.var(y) * kernels.ExpSquaredKernel(0.5)\n",
    "gp = george.GP(kernel)\n",
    "x_pred = np.linspace(0,10,500)\n",
    "gp.compute(x[:400], y[:400])"
   ]
  },
  {
   "cell_type": "code",
   "execution_count": null,
   "metadata": {},
   "outputs": [],
   "source": [
    "print(kernel.get_parameter_names())\n",
    "print(kernel.get_parameter_vector())"
   ]
  }
 ],
 "metadata": {
  "kernelspec": {
   "display_name": "Python 3",
   "language": "python",
   "name": "python3"
  },
  "language_info": {
   "codemirror_mode": {
    "name": "ipython",
    "version": 3
   },
   "file_extension": ".py",
   "mimetype": "text/x-python",
   "name": "python",
   "nbconvert_exporter": "python",
   "pygments_lexer": "ipython3",
   "version": "3.6.1"
  }
 },
 "nbformat": 4,
 "nbformat_minor": 2
}
